{
 "cells": [
  {
   "cell_type": "markdown",
   "metadata": {},
   "source": [
    "## Welcome!\n",
    "\n",
    "This notebook contains a demo of `neural-texturize`, which takes about 5 minutes to run in total.\n",
    "\n",
    "* Run each of the code blocks by pressing the arrow button ➤ to the left of each one.\n",
    "* Re-run blocks `a.` to use a different random crop of the source image.\n",
    "* Re-run blocks `b.` to generate a new texture from a different random seed.\n",
    "* Watch the generator optimize as it displays the result frame-by-frame!\n",
    "\n",
    "If you encounter any problems with your textures, report them in the [GitHub Repository](https://github.com/photogeniq/neural-texturize). Thanks!\n",
    "\n",
    "_This notebook is released under the CC-BY-NC-SA license — including the text, images and code._"
   ]
  },
  {
   "cell_type": "code",
   "execution_count": null,
   "metadata": {},
   "outputs": [],
   "source": [
    "from texturize import io\n",
    "from texturize.api import process_iterations\n",
    "\n",
    "BASE_URL = \"https://github.com/photogeniq/neural-texturize/releases/download/v0.0/\"\n",
    "\n",
    "def generate(image):\n",
    "    return process_iterations([image], octaves=5, size=(720, 360), mode=\"gram\", threshold=1e-6, iterations=99)"
   ]
  },
  {
   "cell_type": "markdown",
   "metadata": {},
   "source": [
    "# Sample: Gravel 1\n",
    "\n",
    "## a. Original Image"
   ]
  },
  {
   "cell_type": "code",
   "execution_count": null,
   "metadata": {},
   "outputs": [],
   "source": [
    "gravel1 = io.load_image_from_url(BASE_URL + \"gravel1.webp\")  # Image CC-BY-NC-SA.\n",
    "gravel1 = io.random_crop(gravel1, (512, 512))\n",
    "\n",
    "io.show_image_as_tiles(gravel1, count=5, size=(144, 144))"
   ]
  },
  {
   "cell_type": "markdown",
   "metadata": {},
   "source": [
    "## b. Generated Result"
   ]
  },
  {
   "cell_type": "code",
   "execution_count": null,
   "metadata": {
    "scrolled": false
   },
   "outputs": [],
   "source": [
    "display_widget = io.show_result_in_notebook()\n",
    "\n",
    "for result in generate(gravel1):\n",
    "    display_widget.update(result)"
   ]
  },
  {
   "cell_type": "markdown",
   "metadata": {},
   "source": [
    "# Sample: Gravel 2\n",
    "\n",
    "## a. Original Image"
   ]
  },
  {
   "cell_type": "code",
   "execution_count": null,
   "metadata": {},
   "outputs": [],
   "source": [
    "gravel2 = io.load_image_from_url(BASE_URL + \"gravel2.webp\")  # Image CC-BY-NC-SA.\n",
    "gravel2 = io.random_crop(gravel2, (512, 512))\n",
    "\n",
    "io.show_image_as_tiles(gravel2, count=5, size=(144, 144))"
   ]
  },
  {
   "cell_type": "markdown",
   "metadata": {},
   "source": [
    "## b. Generated Result"
   ]
  },
  {
   "cell_type": "code",
   "execution_count": null,
   "metadata": {
    "scrolled": false
   },
   "outputs": [],
   "source": [
    "display_widget = io.show_result_in_notebook()\n",
    "\n",
    "for result in generate(gravel2):\n",
    "    display_widget.update(result)"
   ]
  },
  {
   "cell_type": "markdown",
   "metadata": {},
   "source": [
    "# Sample: Gravel 3\n",
    "\n",
    "## a. Original Image"
   ]
  },
  {
   "cell_type": "code",
   "execution_count": null,
   "metadata": {},
   "outputs": [],
   "source": [
    "gravel3 = io.load_image_from_url(BASE_URL + \"gravel3.webp\")  # Image CC-BY-NC-SA.\n",
    "gravel3 = io.random_crop(gravel3, (512, 512))\n",
    "\n",
    "io.show_image_as_tiles(gravel3, count=5, size=(144, 144))"
   ]
  },
  {
   "cell_type": "markdown",
   "metadata": {},
   "source": [
    "## b. Generated Result"
   ]
  },
  {
   "cell_type": "code",
   "execution_count": null,
   "metadata": {},
   "outputs": [],
   "source": [
    "display_widget = io.show_result_in_notebook()\n",
    "\n",
    "for result in generate(gravel3):\n",
    "    display_widget.update(result)"
   ]
  }
 ],
 "metadata": {
  "kernelspec": {
   "display_name": "Python 3",
   "language": "python",
   "name": "python3"
  },
  "language_info": {
   "codemirror_mode": {
    "name": "ipython",
    "version": 3
   },
   "file_extension": ".py",
   "mimetype": "text/x-python",
   "name": "python",
   "nbconvert_exporter": "python",
   "pygments_lexer": "ipython3",
   "version": "3.8.3"
  }
 },
 "nbformat": 4,
 "nbformat_minor": 4
}
