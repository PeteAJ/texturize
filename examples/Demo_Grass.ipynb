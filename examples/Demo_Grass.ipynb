{
 "cells": [
  {
   "cell_type": "markdown",
   "metadata": {},
   "source": [
    "# Texturize Demo: Grass\n",
    "\n",
    "Welcome! This notebook contains a demo of `texturize`, which will generate three **variations of grass textures** and takes about 5 minutes to run in total.\n",
    "\n",
    "* You can run the whole notebook and follow along, click `Runtime > Run All` from the menu.\n",
    "* Alternatively, run each code cell by selecting it, then clicking the arrow button ➤ in the left column.\n",
    "* Re-run blocks `a.` to use a different random crop of the source image.\n",
    "* Re-run blocks `b.` to generate a new texture from a different random seed.\n",
    "* Watch the generator optimize as it displays the result frame-by-frame!\n",
    "\n",
    "If you enjoy the project, feel free to **browse the repository** on [GitHub](https://github.com/photogeniq/neural-texturize) and leave us a star ★. If encounter any problems with your textures, report them in the [Issues](https://github.com/photogeniq/neural-texturize). Thanks!\n",
    "\n",
    "_This notebook is released under the CC-BY-NC-SA license — including the text, images and code._"
   ]
  },
  {
   "cell_type": "code",
   "execution_count": null,
   "metadata": {},
   "outputs": [],
   "source": [
    "# Install the latest release from the Python Package Index (PYPI).\n",
    "!pip install -q --progress-bar=off texturize\n",
    "\n",
    "from texturize import api, commands, io\n",
    "\n",
    "# The sample files are stored as attachments in this GitHub Release.\n",
    "BASE_URL = \"https://github.com/photogeniq/neural-texturize/releases/download/v0.0/\""
   ]
  },
  {
   "cell_type": "markdown",
   "metadata": {},
   "source": [
    "All the images in this file are generated using this function.  You can configure the parameters here if necessary:"
   ]
  },
  {
   "cell_type": "code",
   "execution_count": null,
   "metadata": {},
   "outputs": [],
   "source": [
    "def synthesize(image):\n",
    "    \"\"\"An iterator that yields a new result each step of the optimation.\n",
    "    \"\"\"\n",
    "    remix = commands.Remix(image, mode=\"patch\")\n",
    "    return api.process_iterations(\n",
    "        remix,\n",
    "        octaves=5,            # Number of levels in coarse-to-fine rendering.\n",
    "        size=(720, 360),      # Resolution of the output, must fit in GPU memory.\n",
    "        quality=3,            # The quality level, higher is better.\n",
    "    )"
   ]
  },
  {
   "cell_type": "markdown",
   "metadata": {},
   "source": [
    "# Sample: Grass 1\n",
    "\n",
    "## a. Original Image"
   ]
  },
  {
   "cell_type": "code",
   "execution_count": null,
   "metadata": {},
   "outputs": [],
   "source": [
    "grass1 = io.load_image_from_url(BASE_URL + \"grass1.webp\")  # Image CC-BY-NC-SA @alexjc.\n",
    "grass1 = io.random_crop(grass1, (512, 512))\n",
    "\n",
    "io.show_image_as_tiles(grass1, count=5, size=(144, 144))"
   ]
  },
  {
   "cell_type": "markdown",
   "metadata": {},
   "source": [
    "## b. Generated Result"
   ]
  },
  {
   "cell_type": "code",
   "execution_count": null,
   "metadata": {},
   "outputs": [],
   "source": [
    "display_widget = io.show_result_in_notebook()\n",
    "\n",
    "for result in synthesize(grass1):\n",
    "    display_widget.update(result)"
   ]
  },
  {
   "cell_type": "markdown",
   "metadata": {},
   "source": [
    "# Sample: Grass 2\n",
    "\n",
    "## a. Original Image"
   ]
  },
  {
   "cell_type": "code",
   "execution_count": null,
   "metadata": {},
   "outputs": [],
   "source": [
    "grass2 = io.load_image_from_url(BASE_URL + \"grass2.webp\")  # Image CC-BY-NC-SA @alexjc.\n",
    "grass2 = io.random_crop(grass2, (512, 512))\n",
    "\n",
    "io.show_image_as_tiles(grass2, count=5, size=(144, 144))"
   ]
  },
  {
   "cell_type": "markdown",
   "metadata": {},
   "source": [
    "## b. Generated Result"
   ]
  },
  {
   "cell_type": "code",
   "execution_count": null,
   "metadata": {},
   "outputs": [],
   "source": [
    "display_widget = io.show_result_in_notebook()\n",
    "\n",
    "for result in synthesize(grass2):\n",
    "    display_widget.update(result)"
   ]
  },
  {
   "cell_type": "markdown",
   "metadata": {},
   "source": [
    "# Sample: Grass 3\n",
    "\n",
    "## a. Original Image"
   ]
  },
  {
   "cell_type": "code",
   "execution_count": null,
   "metadata": {},
   "outputs": [],
   "source": [
    "grass3 = io.load_image_from_url(BASE_URL + \"grass3.webp\")  # Image CC-BY-NC-SA @alexjc.\n",
    "grass3 = io.random_crop(grass3, (512, 512))\n",
    "\n",
    "io.show_image_as_tiles(grass3, count=5, size=(144, 144))"
   ]
  },
  {
   "cell_type": "markdown",
   "metadata": {},
   "source": [
    "## b. Generated Result"
   ]
  },
  {
   "cell_type": "code",
   "execution_count": null,
   "metadata": {},
   "outputs": [],
   "source": [
    "display_widget = io.show_result_in_notebook()\n",
    "\n",
    "for result in synthesize(grass3):\n",
    "    display_widget.update(result)"
   ]
  },
  {
   "cell_type": "markdown",
   "metadata": {},
   "source": [
    "# What Next?\n",
    "\n",
    "1. Browse the [source code repository](https://github.com/photogeniq/neural-texturize).\n",
    "2. Let us know what you think on [social media](https://twitter.com/alexjc)! \n",
    "3. Star ★ the [texturize project](https://github.com/photogeniq/neural-texturize) on GitHub."
   ]
  }
 ],
 "metadata": {
  "accelerator": "GPU",
  "colab": {
   "name": "Texturize Demo: Grass"
  },
  "kernelspec": {
   "display_name": "Python 3",
   "language": "python",
   "name": "python3"
  },
  "language_info": {
   "codemirror_mode": {
    "name": "ipython",
    "version": 3
   },
   "file_extension": ".py",
   "mimetype": "text/x-python",
   "name": "python",
   "nbconvert_exporter": "python",
   "pygments_lexer": "ipython3",
   "version": "3.8.3"
  }
 },
 "nbformat": 4,
 "nbformat_minor": 4
}
